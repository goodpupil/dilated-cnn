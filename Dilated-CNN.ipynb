{
 "cells": [
  {
   "cell_type": "markdown",
   "metadata": {
    "Collapsed": "false"
   },
   "source": [
    "## Download the required data."
   ]
  },
  {
   "cell_type": "raw",
   "metadata": {
    "Collapsed": "false"
   },
   "source": [
    "!mkdir data\n",
    "cd data\n",
    "!kaggle competitions download -c web-traffic-time-series-forecasting ## download kaggle web traffic timeseries data\n",
    "!unzip web-traffic-time-series-forecasting.zip\n",
    "!unzip train_1.csv.zip\n",
    "!unzip key_1.csv.zip "
   ]
  },
  {
   "cell_type": "markdown",
   "metadata": {
    "Collapsed": "false"
   },
   "source": [
    "## Import Libraries"
   ]
  },
  {
   "cell_type": "code",
   "execution_count": 1,
   "metadata": {
    "Collapsed": "false"
   },
   "outputs": [
    {
     "name": "stderr",
     "output_type": "stream",
     "text": [
      "/data/nithish/anaconda3/lib/python3.7/site-packages/statsmodels/tools/_testing.py:19: FutureWarning: pandas.util.testing is deprecated. Use the functions in the public API at pandas.testing instead.\n",
      "  import pandas.util.testing as tm\n",
      "/data/nithish/anaconda3/lib/python3.7/site-packages/IPython/core/interactiveshell.py:3058: DtypeWarning: Columns (117,121,126,129,245,248,252,369,379,383,384,502,506,512) have mixed types.Specify dtype option on import or set low_memory=False.\n",
      "  interactivity=interactivity, compiler=compiler, result=result)\n"
     ]
    }
   ],
   "source": [
    "import os\n",
    "os.environ['CUDA_LAUNCH_BLOCKING'] = \"1\"\n",
    "\n",
    "import time\n",
    "\n",
    "import pandas as pd\n",
    "import numpy as np\n",
    "from tqdm import tqdm\n",
    "import matplotlib.pyplot as plt\n",
    "import seaborn as sns\n",
    "\n",
    "import torch\n",
    "import torch.nn as nn\n",
    "import torch.nn.functional as F\n",
    "from torch.optim import Adam\n",
    "from torch.utils.data import DataLoader,Dataset,TensorDataset\n",
    "\n",
    "device = torch.device('cuda:1' if torch.cuda.is_available() else 'cpu')\n",
    "\n",
    "data = pd.read_csv('./data/train_1.csv')\n",
    "\n",
    "data.head()\n",
    "\n",
    "# drop all na rows\n",
    "data = data.dropna()\n",
    "\n",
    "data = data.values\n",
    "data = data[:,1:]  # remove the Page column\n",
    "data = np.array(data, dtype=np.float)\n",
    "\n",
    "## Time based train test split\n",
    "\n",
    "X_train, y_train = data[:,:-60], data[:,-60:-30]\n",
    "X_test, y_test   = data[:,30:-30], data[:,-30:]\n",
    "\n",
    "X_train.shape, X_test.shape, y_train.shape, y_test.shape\n",
    "\n",
    "## Code from https://github.com/JEddy92/TimeSeries_Seq2Seq/blob/master/notebooks/TS_Seq2Seq_Conv_Intro.ipynb\n",
    "## An excellent blog post from Joseph Eddy\n",
    "\n",
    "def prepare_train(series_array):\n",
    "    '''normalizes the time series and outputs a numpy array of shape (num_samples, num_channels, timesteps)\n",
    "    which can be used to pass into Neural Networks.'''\n",
    "    \n",
    "    series_array = np.log1p(np.nan_to_num(series_array)) # filling NaN with 0\n",
    "    series_mean = series_array.mean(axis=1).reshape(-1,1) \n",
    "    series_array = series_array - series_mean\n",
    "    series_array = series_array.reshape((series_array.shape[0],1, series_array.shape[1]))\n",
    "    \n",
    "    return series_array, series_mean\n",
    "\n",
    "def prepare_test(series_array, encode_series_mean):\n",
    "    '''uses the normalizing stats from train data to normalize test data\n",
    "    and outputs a numpy array of shape (num_samples, num_channels, timesteps)\n",
    "    which can be used to pass into Neural Networks.'''\n",
    "    \n",
    "    series_array = np.log1p(np.nan_to_num(series_array)) # filling NaN with 0\n",
    "    series_array = series_array - encode_series_mean\n",
    "    series_array = series_array.reshape((series_array.shape[0],1, series_array.shape[1]))\n",
    "    \n",
    "    return series_array\n",
    "\n",
    "def save_model(m, p): torch.save(m.state_dict(), p)\n",
    "def load_model(m, p): m.load_state_dict(torch.load(p))\n",
    "    \n",
    "\n",
    "def keep_notebook_alive(minutes=60):\n",
    "    for min in range(1, minutes+1):\n",
    "        time.sleep(60)\n",
    "        print(f\"{min} since start of sleep\")\n",
    "\n",
    "X_train, X_train_mean = prepare_train(X_train)  # for normalize for train data\n",
    "X_test, X_test_mean = prepare_train(X_test)  # for normalizing test data\n",
    "\n",
    "y_train = prepare_test(y_train, X_train_mean)\n",
    "y_test = prepare_test(y_test, X_test_mean)\n",
    "\n",
    "## Parameters \n",
    "\n",
    "batch_size = 1024\n",
    "num_epochs = 10\n",
    "learning_rate = 1e-3\n",
    "criterion = nn.L1Loss()\n",
    "\n",
    "# for dilated cnn model\n",
    "num_filters = 32  # no. of filters to be used\n",
    "kernel_size = 2  # kernel size \n",
    "input_channels = 1  # number of channels in the input \n",
    "\n",
    "## Pytorch Dataset Dataloader\n",
    "\n",
    "X_train = torch.from_numpy(X_train).float()\n",
    "X_test = torch.from_numpy(X_test).float()\n",
    "y_train = torch.from_numpy(y_train).float()\n",
    "y_test = torch.from_numpy(y_test).float()\n",
    "\n",
    "train_dataset = TensorDataset(X_train, y_train)\n",
    "test_dataset = TensorDataset(X_test, y_test)\n",
    "\n",
    "train_dataloader = DataLoader(train_dataset, \n",
    "                              batch_size=batch_size,shuffle=True)\n",
    "\n",
    "test_dataloader = DataLoader(test_dataset, \n",
    "                              batch_size=batch_size,shuffle=False)"
   ]
  },
  {
   "cell_type": "markdown",
   "metadata": {
    "Collapsed": "false"
   },
   "source": [
    "## CausalConv1d Block"
   ]
  },
  {
   "cell_type": "code",
   "execution_count": 2,
   "metadata": {
    "Collapsed": "false"
   },
   "outputs": [],
   "source": [
    "# written by Roman Pearah(github username: https://github.com/neverfox) \n",
    "# code from https://github.com/pytorch/pytorch/issues/1333\n",
    "\n",
    "class CausalConv1d(torch.nn.Conv1d):\n",
    "    def __init__(self,\n",
    "                 in_channels,\n",
    "                 out_channels,\n",
    "                 kernel_size,\n",
    "                 stride=1,\n",
    "                 dilation=1,\n",
    "                 groups=1,\n",
    "                 bias=True):\n",
    "\n",
    "        super(CausalConv1d, self).__init__(\n",
    "            in_channels,\n",
    "            out_channels,\n",
    "            kernel_size=kernel_size,\n",
    "            stride=stride,\n",
    "            padding=0,\n",
    "            dilation=dilation,\n",
    "            groups=groups,\n",
    "            bias=bias)\n",
    "        \n",
    "        self.__padding = (kernel_size - 1) * dilation\n",
    "        \n",
    "    def forward(self, input):\n",
    "        return super(CausalConv1d, self).forward(F.pad(input, (self.__padding, 0)))"
   ]
  },
  {
   "cell_type": "raw",
   "metadata": {
    "jupyter": {
     "outputs_hidden": true
    }
   },
   "source": [
    "## to test if left padding works\n",
    "\n",
    "inp = torch.rand(64,8,15)\n",
    "dilation = 1\n",
    "kernel_size = 2\n",
    "left_padding = dilation * (kernel_size - 1)\n",
    "left_padding\n",
    "\n",
    "print(F.pad(input.unsqueeze(2), (left_padding, 0, 0, 0)).squeeze(2)) # left padding"
   ]
  },
  {
   "cell_type": "code",
   "execution_count": 4,
   "metadata": {
    "collapsed": true,
    "jupyter": {
     "outputs_hidden": true
    }
   },
   "outputs": [
    {
     "ename": "KeyboardInterrupt",
     "evalue": "",
     "output_type": "error",
     "traceback": [
      "\u001b[0;31m-----------------------------------------------------------------------\u001b[0m",
      "\u001b[0;31mKeyboardInterrupt\u001b[0m                     Traceback (most recent call last)",
      "\u001b[0;32m<ipython-input-4-375579250f80>\u001b[0m in \u001b[0;36m<module>\u001b[0;34m\u001b[0m\n\u001b[0;32m----> 1\u001b[0;31m \u001b[0mkeep_notebook_alive\u001b[0m\u001b[0;34m(\u001b[0m\u001b[0;36m120\u001b[0m\u001b[0;34m)\u001b[0m\u001b[0;34m\u001b[0m\u001b[0;34m\u001b[0m\u001b[0m\n\u001b[0m",
      "\u001b[0;32m<ipython-input-1-74826bfec949>\u001b[0m in \u001b[0;36mkeep_notebook_alive\u001b[0;34m(minutes)\u001b[0m\n\u001b[1;32m     67\u001b[0m \u001b[0;32mdef\u001b[0m \u001b[0mkeep_notebook_alive\u001b[0m\u001b[0;34m(\u001b[0m\u001b[0mminutes\u001b[0m\u001b[0;34m=\u001b[0m\u001b[0;36m60\u001b[0m\u001b[0;34m)\u001b[0m\u001b[0;34m:\u001b[0m\u001b[0;34m\u001b[0m\u001b[0;34m\u001b[0m\u001b[0m\n\u001b[1;32m     68\u001b[0m     \u001b[0;32mfor\u001b[0m \u001b[0mmin\u001b[0m \u001b[0;32min\u001b[0m \u001b[0mrange\u001b[0m\u001b[0;34m(\u001b[0m\u001b[0;36m1\u001b[0m\u001b[0;34m,\u001b[0m \u001b[0mminutes\u001b[0m\u001b[0;34m+\u001b[0m\u001b[0;36m1\u001b[0m\u001b[0;34m)\u001b[0m\u001b[0;34m:\u001b[0m\u001b[0;34m\u001b[0m\u001b[0;34m\u001b[0m\u001b[0m\n\u001b[0;32m---> 69\u001b[0;31m         \u001b[0mtime\u001b[0m\u001b[0;34m.\u001b[0m\u001b[0msleep\u001b[0m\u001b[0;34m(\u001b[0m\u001b[0;36m60\u001b[0m\u001b[0;34m)\u001b[0m\u001b[0;34m\u001b[0m\u001b[0;34m\u001b[0m\u001b[0m\n\u001b[0m\u001b[1;32m     70\u001b[0m         \u001b[0mprint\u001b[0m\u001b[0;34m(\u001b[0m\u001b[0;34mf\"{min} since start of sleep\"\u001b[0m\u001b[0;34m)\u001b[0m\u001b[0;34m\u001b[0m\u001b[0;34m\u001b[0m\u001b[0m\n\u001b[1;32m     71\u001b[0m \u001b[0;34m\u001b[0m\u001b[0m\n",
      "\u001b[0;31mKeyboardInterrupt\u001b[0m: "
     ]
    }
   ],
   "source": [
    "keep_notebook_alive(120)"
   ]
  },
  {
   "cell_type": "markdown",
   "metadata": {
    "Collapsed": "false"
   },
   "source": [
    "## Dilated CNN Architecture"
   ]
  },
  {
   "cell_type": "code",
   "execution_count": 3,
   "metadata": {
    "Collapsed": "false"
   },
   "outputs": [],
   "source": [
    "class DilatedCNN(nn.Module):\n",
    "    \n",
    "    def __init__(self,):\n",
    "        super(DilatedCNN, self).__init__()\n",
    "\n",
    "        self.dil1 = CausalConv1d(in_channels=1,out_channels=32,kernel_size=2,\n",
    "                                dilation=1)\n",
    "        self.dil2 = CausalConv1d(in_channels=32,out_channels=32,kernel_size=2,\n",
    "                                dilation=2)\n",
    "        self.dil3 = CausalConv1d(in_channels=32,out_channels=32,kernel_size=2,\n",
    "                                dilation=4)\n",
    "        self.dil4 = CausalConv1d(in_channels=32,out_channels=32,kernel_size=2,\n",
    "                                dilation=8)\n",
    "        self.dil5 = CausalConv1d(in_channels=32,out_channels=16,kernel_size=2,\n",
    "                                dilation=16)\n",
    "        \n",
    "        self.fc1 = nn.Linear(17,8)\n",
    "        self.drop1 = nn.Dropout(0.2)\n",
    "        self.fc2 = nn.Linear(8,1)\n",
    "    \n",
    "    def forward(self, x):\n",
    "        \n",
    "        # for predicting y0(y at timestep 0), we need to use\n",
    "        # x-value at the last timestep.\n",
    "        x_now = x.clone()[:,:,-1]\n",
    "        x = torch.relu(self.dil1(x))\n",
    "        x = torch.relu(self.dil2(x))\n",
    "        x = torch.relu(self.dil3(x))\n",
    "        x = torch.relu(self.dil4(x))\n",
    "        x = torch.relu(self.dil5(x))\n",
    "        \n",
    "        x = x[:,:,-1]\n",
    "        # batch_size, features, time_steps -> batch_size, features\n",
    "        # take only the last timestep\n",
    "        \n",
    "        x = torch.cat([x,x_now], axis=1)\n",
    "        x = F.relu(self.fc1(x))\n",
    "        x = self.drop1(x)\n",
    "        x = self.fc2(x)\n",
    "\n",
    "        return x\n",
    "        "
   ]
  },
  {
   "cell_type": "code",
   "execution_count": 4,
   "metadata": {},
   "outputs": [
    {
     "name": "stdout",
     "output_type": "stream",
     "text": [
      "total number of parameters = 7529\n"
     ]
    }
   ],
   "source": [
    "net = DilatedCNN()\n",
    "    \n",
    "# optimizer\n",
    "parameters = net.parameters()\n",
    "optimizer = Adam(parameters, lr=0.01)\n",
    "net = net.to(device)\n",
    "\n",
    "total_parameters = sum(p.numel() for p in net.parameters())\n",
    "print(f\"total number of parameters = {total_parameters}\")"
   ]
  },
  {
   "cell_type": "code",
   "execution_count": 5,
   "metadata": {},
   "outputs": [],
   "source": [
    "num_epochs = 100"
   ]
  },
  {
   "cell_type": "code",
   "execution_count": 7,
   "metadata": {},
   "outputs": [
    {
     "name": "stderr",
     "output_type": "stream",
     "text": [
      "\n",
      "  0%|          | 0/100 [00:00<?, ?it/s]\u001b[A\n",
      "  1%|          | 1/100 [00:14<24:31, 14.86s/it]\u001b[A"
     ]
    },
    {
     "name": "stdout",
     "output_type": "stream",
     "text": [
      "train_loss = 0.4082705636536621\n"
     ]
    },
    {
     "name": "stderr",
     "output_type": "stream",
     "text": [
      "\n",
      "  2%|▏         | 2/100 [00:29<24:21, 14.91s/it]\u001b[A"
     ]
    },
    {
     "name": "stdout",
     "output_type": "stream",
     "text": [
      "train_loss = 0.40703105884227897\n"
     ]
    },
    {
     "name": "stderr",
     "output_type": "stream",
     "text": [
      "\n",
      "  3%|▎         | 3/100 [00:44<24:09, 14.94s/it]\u001b[A"
     ]
    },
    {
     "name": "stdout",
     "output_type": "stream",
     "text": [
      "train_loss = 0.4049962213328161\n"
     ]
    },
    {
     "name": "stderr",
     "output_type": "stream",
     "text": [
      "\n",
      "  4%|▍         | 4/100 [00:59<23:54, 14.94s/it]\u001b[A"
     ]
    },
    {
     "name": "stdout",
     "output_type": "stream",
     "text": [
      "train_loss = 0.4049742962239916\n"
     ]
    },
    {
     "name": "stderr",
     "output_type": "stream",
     "text": [
      "\n",
      "  5%|▌         | 5/100 [01:14<23:37, 14.93s/it]\u001b[A"
     ]
    },
    {
     "name": "stdout",
     "output_type": "stream",
     "text": [
      "train_loss = 0.40282925678277764\n"
     ]
    },
    {
     "name": "stderr",
     "output_type": "stream",
     "text": [
      "\n",
      "  6%|▌         | 6/100 [01:29<23:19, 14.89s/it]\u001b[A"
     ]
    },
    {
     "name": "stdout",
     "output_type": "stream",
     "text": [
      "train_loss = 0.4032890236293551\n"
     ]
    },
    {
     "name": "stderr",
     "output_type": "stream",
     "text": [
      "\n",
      "  7%|▋         | 7/100 [01:44<23:01, 14.86s/it]\u001b[A"
     ]
    },
    {
     "name": "stdout",
     "output_type": "stream",
     "text": [
      "train_loss = 0.402621964111453\n"
     ]
    },
    {
     "name": "stderr",
     "output_type": "stream",
     "text": [
      "\n",
      "  8%|▊         | 8/100 [01:59<22:45, 14.84s/it]\u001b[A"
     ]
    },
    {
     "name": "stdout",
     "output_type": "stream",
     "text": [
      "train_loss = 0.4007872546319686\n"
     ]
    },
    {
     "name": "stderr",
     "output_type": "stream",
     "text": [
      "\n",
      "  9%|▉         | 9/100 [02:13<22:29, 14.83s/it]\u001b[A"
     ]
    },
    {
     "name": "stdout",
     "output_type": "stream",
     "text": [
      "train_loss = 0.40096069890726854\n"
     ]
    },
    {
     "name": "stderr",
     "output_type": "stream",
     "text": [
      "\n",
      " 10%|█         | 10/100 [02:28<22:13, 14.82s/it]\u001b[A"
     ]
    },
    {
     "name": "stdout",
     "output_type": "stream",
     "text": [
      "train_loss = 0.4000278359574516\n"
     ]
    },
    {
     "name": "stderr",
     "output_type": "stream",
     "text": [
      "\n",
      " 11%|█         | 11/100 [02:43<21:54, 14.77s/it]\u001b[A"
     ]
    },
    {
     "name": "stdout",
     "output_type": "stream",
     "text": [
      "train_loss = 0.3992894974569372\n"
     ]
    },
    {
     "name": "stderr",
     "output_type": "stream",
     "text": [
      "\n",
      " 12%|█▏        | 12/100 [02:58<21:36, 14.73s/it]\u001b[A"
     ]
    },
    {
     "name": "stdout",
     "output_type": "stream",
     "text": [
      "train_loss = 0.3991608352476376\n"
     ]
    },
    {
     "name": "stderr",
     "output_type": "stream",
     "text": [
      "\n",
      " 13%|█▎        | 13/100 [03:12<21:19, 14.70s/it]\u001b[A"
     ]
    },
    {
     "name": "stdout",
     "output_type": "stream",
     "text": [
      "train_loss = 0.3991326567884267\n"
     ]
    },
    {
     "name": "stderr",
     "output_type": "stream",
     "text": [
      "\n",
      " 14%|█▍        | 14/100 [03:27<21:02, 14.68s/it]\u001b[A"
     ]
    },
    {
     "name": "stdout",
     "output_type": "stream",
     "text": [
      "train_loss = 0.3980338025285804\n"
     ]
    },
    {
     "name": "stderr",
     "output_type": "stream",
     "text": [
      "\n",
      " 15%|█▌        | 15/100 [03:41<20:42, 14.62s/it]\u001b[A"
     ]
    },
    {
     "name": "stdout",
     "output_type": "stream",
     "text": [
      "train_loss = 0.398471384046185\n"
     ]
    },
    {
     "name": "stderr",
     "output_type": "stream",
     "text": [
      "\n",
      " 16%|█▌        | 16/100 [03:56<20:32, 14.68s/it]\u001b[A"
     ]
    },
    {
     "name": "stdout",
     "output_type": "stream",
     "text": [
      "train_loss = 0.3969574973854745\n"
     ]
    },
    {
     "name": "stderr",
     "output_type": "stream",
     "text": [
      "\n",
      " 17%|█▋        | 17/100 [04:11<20:18, 14.68s/it]\u001b[A"
     ]
    },
    {
     "name": "stdout",
     "output_type": "stream",
     "text": [
      "train_loss = 0.39639140562713704\n"
     ]
    },
    {
     "name": "stderr",
     "output_type": "stream",
     "text": [
      "\n",
      " 18%|█▊        | 18/100 [04:25<19:58, 14.62s/it]\u001b[A"
     ]
    },
    {
     "name": "stdout",
     "output_type": "stream",
     "text": [
      "train_loss = 0.396423451998634\n"
     ]
    },
    {
     "name": "stderr",
     "output_type": "stream",
     "text": [
      "\n",
      " 19%|█▉        | 19/100 [04:39<19:34, 14.49s/it]\u001b[A"
     ]
    },
    {
     "name": "stdout",
     "output_type": "stream",
     "text": [
      "train_loss = 0.3965210488663961\n"
     ]
    },
    {
     "name": "stderr",
     "output_type": "stream",
     "text": [
      "\n",
      " 20%|██        | 20/100 [04:54<19:12, 14.41s/it]\u001b[A"
     ]
    },
    {
     "name": "stdout",
     "output_type": "stream",
     "text": [
      "train_loss = 0.3957631961967322\n"
     ]
    },
    {
     "name": "stderr",
     "output_type": "stream",
     "text": [
      "\n",
      " 21%|██        | 21/100 [05:08<18:52, 14.33s/it]\u001b[A"
     ]
    },
    {
     "name": "stdout",
     "output_type": "stream",
     "text": [
      "train_loss = 0.3945197178236829\n"
     ]
    },
    {
     "name": "stderr",
     "output_type": "stream",
     "text": [
      "\n",
      " 22%|██▏       | 22/100 [05:22<18:34, 14.29s/it]\u001b[A"
     ]
    },
    {
     "name": "stdout",
     "output_type": "stream",
     "text": [
      "train_loss = 0.39593915263734497\n"
     ]
    },
    {
     "name": "stderr",
     "output_type": "stream",
     "text": [
      "\n",
      " 23%|██▎       | 23/100 [05:36<18:19, 14.27s/it]\u001b[A"
     ]
    },
    {
     "name": "stdout",
     "output_type": "stream",
     "text": [
      "train_loss = 0.39465370023391666\n"
     ]
    },
    {
     "name": "stderr",
     "output_type": "stream",
     "text": [
      "\n",
      " 24%|██▍       | 24/100 [05:50<18:03, 14.25s/it]\u001b[A"
     ]
    },
    {
     "name": "stdout",
     "output_type": "stream",
     "text": [
      "train_loss = 0.3945837452514195\n"
     ]
    },
    {
     "name": "stderr",
     "output_type": "stream",
     "text": [
      "\n",
      " 25%|██▌       | 25/100 [06:05<17:46, 14.22s/it]\u001b[A"
     ]
    },
    {
     "name": "stdout",
     "output_type": "stream",
     "text": [
      "train_loss = 0.3941282142684178\n"
     ]
    },
    {
     "name": "stderr",
     "output_type": "stream",
     "text": [
      "\n",
      " 26%|██▌       | 26/100 [06:19<17:31, 14.21s/it]\u001b[A"
     ]
    },
    {
     "name": "stdout",
     "output_type": "stream",
     "text": [
      "train_loss = 0.39427519727726623\n"
     ]
    },
    {
     "name": "stderr",
     "output_type": "stream",
     "text": [
      "\n",
      " 27%|██▋       | 27/100 [06:33<17:17, 14.21s/it]\u001b[A"
     ]
    },
    {
     "name": "stdout",
     "output_type": "stream",
     "text": [
      "train_loss = 0.3935270841273171\n"
     ]
    },
    {
     "name": "stderr",
     "output_type": "stream",
     "text": [
      "\n",
      " 28%|██▊       | 28/100 [06:47<17:01, 14.19s/it]\u001b[A"
     ]
    },
    {
     "name": "stdout",
     "output_type": "stream",
     "text": [
      "train_loss = 0.393586101016096\n"
     ]
    },
    {
     "name": "stderr",
     "output_type": "stream",
     "text": [
      "\n",
      " 29%|██▉       | 29/100 [07:01<16:47, 14.19s/it]\u001b[A"
     ]
    },
    {
     "name": "stdout",
     "output_type": "stream",
     "text": [
      "train_loss = 0.3929578067539228\n"
     ]
    },
    {
     "name": "stderr",
     "output_type": "stream",
     "text": [
      "\n",
      " 30%|███       | 30/100 [07:16<16:33, 14.19s/it]\u001b[A"
     ]
    },
    {
     "name": "stdout",
     "output_type": "stream",
     "text": [
      "train_loss = 0.39315071549632385\n"
     ]
    },
    {
     "name": "stderr",
     "output_type": "stream",
     "text": [
      "\n",
      " 31%|███       | 31/100 [07:30<16:27, 14.31s/it]\u001b[A"
     ]
    },
    {
     "name": "stdout",
     "output_type": "stream",
     "text": [
      "train_loss = 0.39195363853925846\n"
     ]
    },
    {
     "name": "stderr",
     "output_type": "stream",
     "text": [
      "\n",
      " 32%|███▏      | 32/100 [07:45<16:17, 14.37s/it]\u001b[A"
     ]
    },
    {
     "name": "stdout",
     "output_type": "stream",
     "text": [
      "train_loss = 0.3918723566941413\n"
     ]
    },
    {
     "name": "stderr",
     "output_type": "stream",
     "text": [
      "\n",
      " 33%|███▎      | 33/100 [07:59<16:13, 14.53s/it]\u001b[A"
     ]
    },
    {
     "name": "stdout",
     "output_type": "stream",
     "text": [
      "train_loss = 0.39250842607412884\n"
     ]
    },
    {
     "name": "stderr",
     "output_type": "stream",
     "text": [
      "\n",
      " 34%|███▍      | 34/100 [08:14<16:07, 14.66s/it]\u001b[A"
     ]
    },
    {
     "name": "stdout",
     "output_type": "stream",
     "text": [
      "train_loss = 0.39245368382172785\n"
     ]
    },
    {
     "name": "stderr",
     "output_type": "stream",
     "text": [
      "\n",
      " 35%|███▌      | 35/100 [08:29<15:55, 14.70s/it]\u001b[A"
     ]
    },
    {
     "name": "stdout",
     "output_type": "stream",
     "text": [
      "train_loss = 0.3927506894709782\n"
     ]
    },
    {
     "name": "stderr",
     "output_type": "stream",
     "text": [
      "\n",
      " 36%|███▌      | 36/100 [08:44<15:42, 14.72s/it]\u001b[A"
     ]
    },
    {
     "name": "stdout",
     "output_type": "stream",
     "text": [
      "train_loss = 0.392355208971185\n"
     ]
    },
    {
     "name": "stderr",
     "output_type": "stream",
     "text": [
      "\n",
      " 37%|███▋      | 37/100 [08:59<15:29, 14.76s/it]\u001b[A"
     ]
    },
    {
     "name": "stdout",
     "output_type": "stream",
     "text": [
      "train_loss = 0.3915859682871662\n"
     ]
    },
    {
     "name": "stderr",
     "output_type": "stream",
     "text": [
      "\n",
      " 38%|███▊      | 38/100 [09:14<15:18, 14.82s/it]\u001b[A"
     ]
    },
    {
     "name": "stdout",
     "output_type": "stream",
     "text": [
      "train_loss = 0.3917211617619707\n"
     ]
    },
    {
     "name": "stderr",
     "output_type": "stream",
     "text": [
      "\n",
      " 39%|███▉      | 39/100 [09:29<15:05, 14.84s/it]\u001b[A"
     ]
    },
    {
     "name": "stdout",
     "output_type": "stream",
     "text": [
      "train_loss = 0.39152244152299515\n"
     ]
    },
    {
     "name": "stderr",
     "output_type": "stream",
     "text": [
      "\n",
      " 40%|████      | 40/100 [09:44<14:49, 14.83s/it]\u001b[A"
     ]
    },
    {
     "name": "stdout",
     "output_type": "stream",
     "text": [
      "train_loss = 0.3910191978746817\n"
     ]
    },
    {
     "name": "stderr",
     "output_type": "stream",
     "text": [
      "\n",
      " 41%|████      | 41/100 [09:58<14:37, 14.87s/it]\u001b[A"
     ]
    },
    {
     "name": "stdout",
     "output_type": "stream",
     "text": [
      "train_loss = 0.39097326381408426\n"
     ]
    },
    {
     "name": "stderr",
     "output_type": "stream",
     "text": [
      "\n",
      " 42%|████▏     | 42/100 [10:14<14:25, 14.92s/it]\u001b[A"
     ]
    },
    {
     "name": "stdout",
     "output_type": "stream",
     "text": [
      "train_loss = 0.39107816271943097\n"
     ]
    },
    {
     "name": "stderr",
     "output_type": "stream",
     "text": [
      "\n",
      " 43%|████▎     | 43/100 [10:28<14:10, 14.92s/it]\u001b[A"
     ]
    },
    {
     "name": "stdout",
     "output_type": "stream",
     "text": [
      "train_loss = 0.39033690715105285\n"
     ]
    },
    {
     "name": "stderr",
     "output_type": "stream",
     "text": [
      "\n",
      " 44%|████▍     | 44/100 [10:43<13:55, 14.91s/it]\u001b[A"
     ]
    },
    {
     "name": "stdout",
     "output_type": "stream",
     "text": [
      "train_loss = 0.39022156535093033\n"
     ]
    },
    {
     "name": "stderr",
     "output_type": "stream",
     "text": [
      "\n",
      " 45%|████▌     | 45/100 [10:58<13:41, 14.93s/it]\u001b[A"
     ]
    },
    {
     "name": "stdout",
     "output_type": "stream",
     "text": [
      "train_loss = 0.38998010135037686\n"
     ]
    },
    {
     "name": "stderr",
     "output_type": "stream",
     "text": [
      "\n",
      " 46%|████▌     | 46/100 [11:13<13:26, 14.94s/it]\u001b[A"
     ]
    },
    {
     "name": "stdout",
     "output_type": "stream",
     "text": [
      "train_loss = 0.3900741436109117\n"
     ]
    },
    {
     "name": "stderr",
     "output_type": "stream",
     "text": [
      "\n",
      " 56%|█████▌    | 56/100 [13:39<10:37, 14.50s/it]\u001b[A"
     ]
    },
    {
     "name": "stdout",
     "output_type": "stream",
     "text": [
      "train_loss = 0.38879378215446697\n"
     ]
    },
    {
     "name": "stderr",
     "output_type": "stream",
     "text": [
      "\n",
      " 57%|█████▋    | 57/100 [13:54<10:26, 14.57s/it]\u001b[A"
     ]
    },
    {
     "name": "stdout",
     "output_type": "stream",
     "text": [
      "train_loss = 0.3902041704146695\n"
     ]
    },
    {
     "name": "stderr",
     "output_type": "stream",
     "text": [
      "\n",
      " 58%|█████▊    | 58/100 [14:09<10:15, 14.67s/it]\u001b[A"
     ]
    },
    {
     "name": "stdout",
     "output_type": "stream",
     "text": [
      "train_loss = 0.3881710844470256\n"
     ]
    },
    {
     "name": "stderr",
     "output_type": "stream",
     "text": [
      "\n",
      " 59%|█████▉    | 59/100 [14:24<10:02, 14.70s/it]\u001b[A"
     ]
    },
    {
     "name": "stdout",
     "output_type": "stream",
     "text": [
      "train_loss = 0.389107575906592\n"
     ]
    },
    {
     "name": "stderr",
     "output_type": "stream",
     "text": [
      "\n",
      " 60%|██████    | 60/100 [14:38<09:41, 14.55s/it]\u001b[A"
     ]
    },
    {
     "name": "stdout",
     "output_type": "stream",
     "text": [
      "train_loss = 0.38862471868536547\n"
     ]
    },
    {
     "name": "stderr",
     "output_type": "stream",
     "text": [
      "\n",
      " 61%|██████    | 61/100 [14:52<09:23, 14.44s/it]\u001b[A"
     ]
    },
    {
     "name": "stdout",
     "output_type": "stream",
     "text": [
      "train_loss = 0.3895816551215522\n"
     ]
    },
    {
     "name": "stderr",
     "output_type": "stream",
     "text": [
      "\n",
      " 62%|██████▏   | 62/100 [15:06<09:07, 14.40s/it]\u001b[A"
     ]
    },
    {
     "name": "stdout",
     "output_type": "stream",
     "text": [
      "train_loss = 0.3883224344704046\n"
     ]
    },
    {
     "name": "stderr",
     "output_type": "stream",
     "text": [
      "\n",
      " 63%|██████▎   | 63/100 [15:21<08:52, 14.39s/it]\u001b[A"
     ]
    },
    {
     "name": "stdout",
     "output_type": "stream",
     "text": [
      "train_loss = 0.3880416837329449\n"
     ]
    },
    {
     "name": "stderr",
     "output_type": "stream",
     "text": [
      "\n",
      " 64%|██████▍   | 64/100 [15:35<08:41, 14.49s/it]\u001b[A"
     ]
    },
    {
     "name": "stdout",
     "output_type": "stream",
     "text": [
      "train_loss = 0.38773655557198206\n"
     ]
    },
    {
     "name": "stderr",
     "output_type": "stream",
     "text": [
      "\n",
      " 65%|██████▌   | 65/100 [15:50<08:30, 14.60s/it]\u001b[A"
     ]
    },
    {
     "name": "stdout",
     "output_type": "stream",
     "text": [
      "train_loss = 0.3877351488218597\n"
     ]
    },
    {
     "name": "stderr",
     "output_type": "stream",
     "text": [
      "\n",
      " 66%|██████▌   | 66/100 [16:05<08:19, 14.68s/it]\u001b[A"
     ]
    },
    {
     "name": "stdout",
     "output_type": "stream",
     "text": [
      "train_loss = 0.38808374545751384\n"
     ]
    },
    {
     "name": "stderr",
     "output_type": "stream",
     "text": [
      "\n",
      " 67%|██████▋   | 67/100 [16:19<08:00, 14.55s/it]\u001b[A"
     ]
    },
    {
     "name": "stdout",
     "output_type": "stream",
     "text": [
      "train_loss = 0.3876156333507768\n"
     ]
    },
    {
     "name": "stderr",
     "output_type": "stream",
     "text": [
      "\n",
      " 68%|██████▊   | 68/100 [16:34<07:48, 14.65s/it]\u001b[A"
     ]
    },
    {
     "name": "stdout",
     "output_type": "stream",
     "text": [
      "train_loss = 0.3871177861479011\n"
     ]
    },
    {
     "name": "stderr",
     "output_type": "stream",
     "text": [
      "\n",
      " 69%|██████▉   | 69/100 [16:49<07:34, 14.67s/it]\u001b[A"
     ]
    },
    {
     "name": "stdout",
     "output_type": "stream",
     "text": [
      "train_loss = 0.38801725634717327\n"
     ]
    },
    {
     "name": "stderr",
     "output_type": "stream",
     "text": [
      "\n",
      " 70%|███████   | 70/100 [17:04<07:20, 14.67s/it]\u001b[A"
     ]
    },
    {
     "name": "stdout",
     "output_type": "stream",
     "text": [
      "train_loss = 0.3871283854349862\n"
     ]
    },
    {
     "name": "stderr",
     "output_type": "stream",
     "text": [
      "\n",
      " 71%|███████   | 71/100 [17:18<07:05, 14.68s/it]\u001b[A"
     ]
    },
    {
     "name": "stdout",
     "output_type": "stream",
     "text": [
      "train_loss = 0.3871162451241822\n"
     ]
    },
    {
     "name": "stderr",
     "output_type": "stream",
     "text": [
      "\n",
      " 72%|███████▏  | 72/100 [17:33<06:50, 14.68s/it]\u001b[A"
     ]
    },
    {
     "name": "stdout",
     "output_type": "stream",
     "text": [
      "train_loss = 0.38829965948257544\n"
     ]
    },
    {
     "name": "stderr",
     "output_type": "stream",
     "text": [
      "\n",
      " 73%|███████▎  | 73/100 [17:48<06:36, 14.69s/it]\u001b[A"
     ]
    },
    {
     "name": "stdout",
     "output_type": "stream",
     "text": [
      "train_loss = 0.3870848948415823\n"
     ]
    },
    {
     "name": "stderr",
     "output_type": "stream",
     "text": [
      "\n",
      " 74%|███████▍  | 74/100 [18:02<06:22, 14.69s/it]\u001b[A"
     ]
    },
    {
     "name": "stdout",
     "output_type": "stream",
     "text": [
      "train_loss = 0.3874618565142937\n"
     ]
    },
    {
     "name": "stderr",
     "output_type": "stream",
     "text": [
      "\n",
      " 75%|███████▌  | 75/100 [18:17<06:05, 14.62s/it]\u001b[A"
     ]
    },
    {
     "name": "stdout",
     "output_type": "stream",
     "text": [
      "train_loss = 0.38693606999452346\n"
     ]
    },
    {
     "name": "stderr",
     "output_type": "stream",
     "text": [
      "\n",
      " 76%|███████▌  | 76/100 [18:31<05:47, 14.49s/it]\u001b[A"
     ]
    },
    {
     "name": "stdout",
     "output_type": "stream",
     "text": [
      "train_loss = 0.38706408998049674\n"
     ]
    },
    {
     "name": "stderr",
     "output_type": "stream",
     "text": [
      "\n",
      " 77%|███████▋  | 77/100 [18:45<05:31, 14.40s/it]\u001b[A"
     ]
    },
    {
     "name": "stdout",
     "output_type": "stream",
     "text": [
      "train_loss = 0.3866568407642715\n"
     ]
    },
    {
     "name": "stderr",
     "output_type": "stream",
     "text": [
      "\n",
      " 78%|███████▊  | 78/100 [18:59<05:15, 14.33s/it]\u001b[A"
     ]
    },
    {
     "name": "stdout",
     "output_type": "stream",
     "text": [
      "train_loss = 0.38712439730099163\n"
     ]
    },
    {
     "name": "stderr",
     "output_type": "stream",
     "text": [
      "\n",
      " 79%|███████▉  | 79/100 [19:14<05:00, 14.29s/it]\u001b[A"
     ]
    },
    {
     "name": "stdout",
     "output_type": "stream",
     "text": [
      "train_loss = 0.38701292887777816\n"
     ]
    },
    {
     "name": "stderr",
     "output_type": "stream",
     "text": [
      "\n",
      " 80%|████████  | 80/100 [19:28<04:45, 14.26s/it]\u001b[A"
     ]
    },
    {
     "name": "stdout",
     "output_type": "stream",
     "text": [
      "train_loss = 0.38667043674658563\n"
     ]
    },
    {
     "name": "stderr",
     "output_type": "stream",
     "text": [
      "\n",
      " 81%|████████  | 81/100 [19:42<04:31, 14.30s/it]\u001b[A"
     ]
    },
    {
     "name": "stdout",
     "output_type": "stream",
     "text": [
      "train_loss = 0.3864794127787195\n"
     ]
    },
    {
     "name": "stderr",
     "output_type": "stream",
     "text": [
      "\n",
      " 82%|████████▏ | 82/100 [19:57<04:19, 14.41s/it]\u001b[A"
     ]
    },
    {
     "name": "stdout",
     "output_type": "stream",
     "text": [
      "train_loss = 0.38628683321480617\n"
     ]
    },
    {
     "name": "stderr",
     "output_type": "stream",
     "text": [
      "\n",
      " 83%|████████▎ | 83/100 [20:12<04:06, 14.49s/it]\u001b[A"
     ]
    },
    {
     "name": "stdout",
     "output_type": "stream",
     "text": [
      "train_loss = 0.3876190784053216\n"
     ]
    },
    {
     "name": "stderr",
     "output_type": "stream",
     "text": [
      "\n",
      " 84%|████████▍ | 84/100 [20:26<03:52, 14.51s/it]\u001b[A"
     ]
    },
    {
     "name": "stdout",
     "output_type": "stream",
     "text": [
      "train_loss = 0.38646750302296706\n"
     ]
    },
    {
     "name": "stderr",
     "output_type": "stream",
     "text": [
      "\n",
      " 85%|████████▌ | 85/100 [20:40<03:36, 14.42s/it]\u001b[A"
     ]
    },
    {
     "name": "stdout",
     "output_type": "stream",
     "text": [
      "train_loss = 0.3876305593182695\n"
     ]
    },
    {
     "name": "stderr",
     "output_type": "stream",
     "text": [
      "\n",
      " 86%|████████▌ | 86/100 [20:54<03:20, 14.34s/it]\u001b[A"
     ]
    },
    {
     "name": "stdout",
     "output_type": "stream",
     "text": [
      "train_loss = 0.3869481366630254\n"
     ]
    },
    {
     "name": "stderr",
     "output_type": "stream",
     "text": [
      "\n",
      " 87%|████████▋ | 87/100 [21:09<03:05, 14.29s/it]\u001b[A"
     ]
    },
    {
     "name": "stdout",
     "output_type": "stream",
     "text": [
      "train_loss = 0.38725733414666913\n"
     ]
    },
    {
     "name": "stderr",
     "output_type": "stream",
     "text": [
      "\n",
      " 88%|████████▊ | 88/100 [21:23<02:51, 14.27s/it]\u001b[A"
     ]
    },
    {
     "name": "stdout",
     "output_type": "stream",
     "text": [
      "train_loss = 0.3873486961396753\n"
     ]
    },
    {
     "name": "stderr",
     "output_type": "stream",
     "text": [
      "\n",
      " 89%|████████▉ | 89/100 [21:37<02:37, 14.31s/it]\u001b[A"
     ]
    },
    {
     "name": "stdout",
     "output_type": "stream",
     "text": [
      "train_loss = 0.3864514081465677\n"
     ]
    },
    {
     "name": "stderr",
     "output_type": "stream",
     "text": [
      "\n",
      " 90%|█████████ | 90/100 [21:51<02:22, 14.26s/it]\u001b[A"
     ]
    },
    {
     "name": "stdout",
     "output_type": "stream",
     "text": [
      "train_loss = 0.38522742468637683\n"
     ]
    },
    {
     "name": "stderr",
     "output_type": "stream",
     "text": [
      "\n",
      " 91%|█████████ | 91/100 [22:06<02:08, 14.24s/it]\u001b[A"
     ]
    },
    {
     "name": "stdout",
     "output_type": "stream",
     "text": [
      "train_loss = 0.38595520787701126\n"
     ]
    },
    {
     "name": "stderr",
     "output_type": "stream",
     "text": [
      "\n",
      " 92%|█████████▏| 92/100 [22:20<01:53, 14.22s/it]\u001b[A"
     ]
    },
    {
     "name": "stdout",
     "output_type": "stream",
     "text": [
      "train_loss = 0.38551944659934484\n"
     ]
    },
    {
     "name": "stderr",
     "output_type": "stream",
     "text": [
      "\n",
      " 93%|█████████▎| 93/100 [22:34<01:39, 14.21s/it]\u001b[A"
     ]
    },
    {
     "name": "stdout",
     "output_type": "stream",
     "text": [
      "train_loss = 0.38545369365180415\n"
     ]
    },
    {
     "name": "stderr",
     "output_type": "stream",
     "text": [
      "\n",
      " 94%|█████████▍| 94/100 [22:48<01:25, 14.20s/it]\u001b[A"
     ]
    },
    {
     "name": "stdout",
     "output_type": "stream",
     "text": [
      "train_loss = 0.386522490662968\n"
     ]
    },
    {
     "name": "stderr",
     "output_type": "stream",
     "text": [
      "\n",
      " 95%|█████████▌| 95/100 [23:02<01:10, 14.20s/it]\u001b[A"
     ]
    },
    {
     "name": "stdout",
     "output_type": "stream",
     "text": [
      "train_loss = 0.38581444204794874\n"
     ]
    },
    {
     "name": "stderr",
     "output_type": "stream",
     "text": [
      "\n",
      " 96%|█████████▌| 96/100 [23:17<00:56, 14.20s/it]\u001b[A"
     ]
    },
    {
     "name": "stdout",
     "output_type": "stream",
     "text": [
      "train_loss = 0.38544537623520053\n"
     ]
    },
    {
     "name": "stderr",
     "output_type": "stream",
     "text": [
      "\n",
      " 97%|█████████▋| 97/100 [23:31<00:42, 14.18s/it]\u001b[A"
     ]
    },
    {
     "name": "stdout",
     "output_type": "stream",
     "text": [
      "train_loss = 0.385706206339639\n"
     ]
    },
    {
     "name": "stderr",
     "output_type": "stream",
     "text": [
      "\n",
      " 98%|█████████▊| 98/100 [23:45<00:28, 14.19s/it]\u001b[A"
     ]
    },
    {
     "name": "stdout",
     "output_type": "stream",
     "text": [
      "train_loss = 0.3858730022503672\n"
     ]
    },
    {
     "name": "stderr",
     "output_type": "stream",
     "text": [
      "\n",
      " 99%|█████████▉| 99/100 [23:59<00:14, 14.19s/it]\u001b[A"
     ]
    },
    {
     "name": "stdout",
     "output_type": "stream",
     "text": [
      "train_loss = 0.38566203344900596\n"
     ]
    },
    {
     "name": "stderr",
     "output_type": "stream",
     "text": [
      "\n",
      "100%|██████████| 100/100 [24:14<00:00, 14.54s/it]\u001b[A"
     ]
    },
    {
     "name": "stdout",
     "output_type": "stream",
     "text": [
      "train_loss = 0.38522893942786074\n"
     ]
    },
    {
     "name": "stderr",
     "output_type": "stream",
     "text": [
      "\n"
     ]
    }
   ],
   "source": [
    "\n",
    "train_losses = []\n",
    "\n",
    "for num_epoch in tqdm(range(1, num_epochs+1)):\n",
    "    epoch_loss = 0\n",
    "    \n",
    "    for batch in train_dataloader:\n",
    "        x,y = batch\n",
    "    \n",
    "        x = x.to(device)\n",
    "        y = y.to(device)\n",
    "        out = net(x)\n",
    "        y = y[:,:,-1]\n",
    "        \n",
    "        \n",
    "        loss = criterion(out, y)\n",
    "        epoch_loss += loss.item() * batch_size\n",
    "        \n",
    "        optimizer.zero_grad()  # clear buffer\n",
    "        loss.backward()  # backprop loss\n",
    "        optimizer.step()  # grad descent\n",
    "    \n",
    "    #normalize for train data\n",
    "    epoch_loss /= len(train_dataset)\n",
    "    \n",
    "    print(f\"train_loss = {epoch_loss}\")\n",
    "    \n",
    "    "
   ]
  },
  {
   "cell_type": "code",
   "execution_count": 102,
   "metadata": {},
   "outputs": [],
   "source": [
    "out = net(x)"
   ]
  },
  {
   "cell_type": "markdown",
   "metadata": {},
   "source": [
    "## GRU model"
   ]
  },
  {
   "cell_type": "code",
   "execution_count": 134,
   "metadata": {},
   "outputs": [],
   "source": [
    "class GRU_model(nn.Module):\n",
    "    \n",
    "    def __init__(self):\n",
    "        super(GRU_model, self).__init__()\n",
    "        self.gru1 = nn.GRU(input_size=1,hidden_size=16,num_layers=2,batch_first=True)\n",
    "        self.fc1 = nn.Linear(16,8)\n",
    "        self.fc2 = nn.Linear(8,1)\n",
    "    \n",
    "    def forward(self,x):\n",
    "        x = x.transpose(1,2)\n",
    "        x,l = self.gru1(x)\n",
    "        x = F.relu(self.fc1(x))\n",
    "        return self.fc2(x)"
   ]
  },
  {
   "cell_type": "code",
   "execution_count": 9,
   "metadata": {
    "Collapsed": "false"
   },
   "outputs": [],
   "source": [
    "## Teacher forcing during training\n",
    "## Training"
   ]
  },
  {
   "cell_type": "code",
   "execution_count": 274,
   "metadata": {
    "Collapsed": "false"
   },
   "outputs": [
    {
     "name": "stdout",
     "output_type": "stream",
     "text": [
      "total number of parameters = 31681\n"
     ]
    }
   ],
   "source": [
    "net = DilatedCNN()\n",
    "    \n",
    "# optimizer\n",
    "parameters = net.parameters()\n",
    "optimizer = Adam(parameters, lr=0.01)\n",
    "net = net.to(device)\n",
    "\n",
    "total_parameters = sum(p.numel() for p in net.parameters())\n",
    "print(f\"total number of parameters = {total_parameters}\")"
   ]
  },
  {
   "cell_type": "markdown",
   "metadata": {
    "Collapsed": "false"
   },
   "source": [
    "> To keep the neural network training simple we will only monitor the training loss"
   ]
  },
  {
   "cell_type": "code",
   "execution_count": 275,
   "metadata": {
    "Collapsed": "false"
   },
   "outputs": [
    {
     "name": "stderr",
     "output_type": "stream",
     "text": [
      "\n",
      "\n",
      "\n",
      "\n",
      "\n",
      "\n",
      "\n",
      "\n",
      "  0%|          | 0/10 [00:00<?, ?it/s]\u001b[A\u001b[A\u001b[A\u001b[A\u001b[A\u001b[A\u001b[A\u001b[A\n",
      "\n",
      "\n",
      "\n",
      "\n",
      "\n",
      "\n",
      "\n",
      " 10%|█         | 1/10 [00:11<01:46, 11.78s/it]\u001b[A\u001b[A\u001b[A\u001b[A\u001b[A\u001b[A\u001b[A\u001b[A"
     ]
    },
    {
     "name": "stdout",
     "output_type": "stream",
     "text": [
      "train_loss = 0.4970574490374036\n"
     ]
    },
    {
     "name": "stderr",
     "output_type": "stream",
     "text": [
      "\n",
      "\n",
      "\n",
      "\n",
      "\n",
      "\n",
      "\n",
      "\n",
      " 20%|██        | 2/10 [00:23<01:33, 11.72s/it]\u001b[A\u001b[A\u001b[A\u001b[A\u001b[A\u001b[A\u001b[A\u001b[A"
     ]
    },
    {
     "name": "stdout",
     "output_type": "stream",
     "text": [
      "train_loss = 0.4782580635208457\n"
     ]
    },
    {
     "name": "stderr",
     "output_type": "stream",
     "text": [
      "\n",
      "\n",
      "\n",
      "\n",
      "\n",
      "\n",
      "\n",
      "\n",
      " 30%|███       | 3/10 [00:34<01:21, 11.68s/it]\u001b[A\u001b[A\u001b[A\u001b[A\u001b[A\u001b[A\u001b[A\u001b[A"
     ]
    },
    {
     "name": "stdout",
     "output_type": "stream",
     "text": [
      "train_loss = 0.47107089543684944\n"
     ]
    },
    {
     "name": "stderr",
     "output_type": "stream",
     "text": [
      "\n",
      "\n",
      "\n",
      "\n",
      "\n",
      "\n",
      "\n",
      "\n",
      " 40%|████      | 4/10 [00:46<01:09, 11.65s/it]\u001b[A\u001b[A\u001b[A\u001b[A\u001b[A\u001b[A\u001b[A\u001b[A"
     ]
    },
    {
     "name": "stdout",
     "output_type": "stream",
     "text": [
      "train_loss = 0.4658673530166685\n"
     ]
    },
    {
     "name": "stderr",
     "output_type": "stream",
     "text": [
      "\n",
      "\n",
      "\n",
      "\n",
      "\n",
      "\n",
      "\n",
      "\n",
      " 50%|█████     | 5/10 [00:58<00:58, 11.63s/it]\u001b[A\u001b[A\u001b[A\u001b[A\u001b[A\u001b[A\u001b[A\u001b[A"
     ]
    },
    {
     "name": "stdout",
     "output_type": "stream",
     "text": [
      "train_loss = 0.46143920028261326\n"
     ]
    },
    {
     "name": "stderr",
     "output_type": "stream",
     "text": [
      "\n",
      "\n",
      "\n",
      "\n",
      "\n",
      "\n",
      "\n",
      "\n",
      " 60%|██████    | 6/10 [01:09<00:46, 11.62s/it]\u001b[A\u001b[A\u001b[A\u001b[A\u001b[A\u001b[A\u001b[A\u001b[A"
     ]
    },
    {
     "name": "stdout",
     "output_type": "stream",
     "text": [
      "train_loss = 0.4568758863410519\n"
     ]
    },
    {
     "name": "stderr",
     "output_type": "stream",
     "text": [
      "\n",
      "\n",
      "\n",
      "\n",
      "\n",
      "\n",
      "\n",
      "\n",
      " 70%|███████   | 7/10 [01:21<00:34, 11.58s/it]\u001b[A\u001b[A\u001b[A\u001b[A\u001b[A\u001b[A\u001b[A\u001b[A"
     ]
    },
    {
     "name": "stdout",
     "output_type": "stream",
     "text": [
      "train_loss = 0.45381640389344635\n"
     ]
    },
    {
     "name": "stderr",
     "output_type": "stream",
     "text": [
      "\n",
      "\n",
      "\n",
      "\n",
      "\n",
      "\n",
      "\n",
      "\n",
      " 80%|████████  | 8/10 [01:32<00:23, 11.56s/it]\u001b[A\u001b[A\u001b[A\u001b[A\u001b[A\u001b[A\u001b[A\u001b[A"
     ]
    },
    {
     "name": "stdout",
     "output_type": "stream",
     "text": [
      "train_loss = 0.45282259113958806\n"
     ]
    },
    {
     "name": "stderr",
     "output_type": "stream",
     "text": [
      "\n",
      "\n",
      "\n",
      "\n",
      "\n",
      "\n",
      "\n",
      "\n",
      " 90%|█████████ | 9/10 [01:44<00:11, 11.54s/it]\u001b[A\u001b[A\u001b[A\u001b[A\u001b[A\u001b[A\u001b[A\u001b[A"
     ]
    },
    {
     "name": "stdout",
     "output_type": "stream",
     "text": [
      "train_loss = 0.4512581949674106\n"
     ]
    },
    {
     "name": "stderr",
     "output_type": "stream",
     "text": [
      "\n",
      "\n",
      "\n",
      "\n",
      "\n",
      "\n",
      "\n",
      "\n",
      "100%|██████████| 10/10 [01:55<00:00, 11.57s/it]\u001b[A\u001b[A\u001b[A\u001b[A\u001b[A\u001b[A\u001b[A\u001b[A"
     ]
    },
    {
     "name": "stdout",
     "output_type": "stream",
     "text": [
      "train_loss = 0.4510472847155828\n"
     ]
    },
    {
     "name": "stderr",
     "output_type": "stream",
     "text": [
      "\n"
     ]
    }
   ],
   "source": [
    "\n",
    "train_losses = []\n",
    "\n",
    "for num_epoch in tqdm(range(1, num_epochs+1)):\n",
    "    epoch_loss = 0\n",
    "    for batch in train_dataloader:\n",
    "        x,y = batch\n",
    "        y_lag = y.clone()[:,:,:-1]\n",
    "        # append y history to x\n",
    "        \n",
    "        x = torch.cat([x,y_lag], axis=2)\n",
    "        \n",
    "        x = x.to(device)\n",
    "        y = y.to(device)\n",
    "        out = net(x)\n",
    "        \n",
    "        out = out[:,-29:,:]  # only use last 29 timesteps\n",
    "                             # \n",
    "        y = y.transpose(1,2)\n",
    "        y = y[:,-29:,:]\n",
    "        \n",
    "        loss = criterion(out, y)\n",
    "        epoch_loss += loss.item() * batch_size\n",
    "        \n",
    "        optimizer.zero_grad()  # clear buffer\n",
    "        loss.backward()  # backprop loss\n",
    "        optimizer.step()  # grad descent\n",
    "    \n",
    "    #normalize for train data\n",
    "    epoch_loss /= len(train_dataset)\n",
    "    \n",
    "    print(f\"train_loss = {epoch_loss}\")\n",
    "    \n",
    "    "
   ]
  },
  {
   "cell_type": "code",
   "execution_count": null,
   "metadata": {},
   "outputs": [],
   "source": [
    "# save_model(net, 'models/gru.pt')"
   ]
  },
  {
   "cell_type": "code",
   "execution_count": 49,
   "metadata": {},
   "outputs": [],
   "source": [
    "# save_model(net, 'models/dilated-cnn.pt')"
   ]
  },
  {
   "cell_type": "markdown",
   "metadata": {},
   "source": [
    "> load model from saved weights"
   ]
  },
  {
   "cell_type": "code",
   "execution_count": 10,
   "metadata": {},
   "outputs": [],
   "source": [
    "net = DilatedCNN()\n",
    "load_model(net, 'models/dilated-cnn.pt')"
   ]
  },
  {
   "cell_type": "code",
   "execution_count": 11,
   "metadata": {},
   "outputs": [],
   "source": [
    "dl1 = iter(train_dataloader)"
   ]
  },
  {
   "cell_type": "code",
   "execution_count": 12,
   "metadata": {},
   "outputs": [],
   "source": [
    "x,y = next(dl1)"
   ]
  },
  {
   "cell_type": "code",
   "execution_count": 13,
   "metadata": {},
   "outputs": [
    {
     "data": {
      "text/plain": [
       "(torch.Size([1024, 1, 490]), torch.Size([1024, 1, 30]))"
      ]
     },
     "execution_count": 13,
     "metadata": {},
     "output_type": "execute_result"
    }
   ],
   "source": [
    "x.shape, y.shape"
   ]
  },
  {
   "cell_type": "code",
   "execution_count": 14,
   "metadata": {},
   "outputs": [],
   "source": [
    "out = net(x)"
   ]
  },
  {
   "cell_type": "code",
   "execution_count": null,
   "metadata": {},
   "outputs": [],
   "source": [
    "out.shape, y.shape"
   ]
  },
  {
   "cell_type": "code",
   "execution_count": 20,
   "metadata": {},
   "outputs": [
    {
     "data": {
      "image/png": "[encoded data removed]",
      "text/plain": [
       "<Figure size 432x288 with 1 Axes>"
      ]
     },
     "metadata": {
      "needs_background": "light"
     },
     "output_type": "display_data"
    }
   ],
   "source": [
    "plot_predictions(out[:,-30:,:],y,1)"
   ]
  },
  {
   "cell_type": "markdown",
   "metadata": {
    "Collapsed": "false"
   },
   "source": [
    "## Prediction Stage"
   ]
  },
  {
   "cell_type": "code",
   "execution_count": 129,
   "metadata": {},
   "outputs": [],
   "source": [
    "test_dataloader = DataLoader(test_dataset, \n",
    "                              batch_size=64,shuffle=False)"
   ]
  },
  {
   "cell_type": "code",
   "execution_count": 130,
   "metadata": {
    "collapsed": true,
    "jupyter": {
     "outputs_hidden": true
    }
   },
   "outputs": [
    {
     "data": {
      "text/plain": [
       "DilatedCNN(\n",
       "  (casual_cnn_block): Sequential(\n",
       "    (0): CausalConv1d(1, 32, kernel_size=(2,), stride=(1,))\n",
       "    (1): CausalConv1d(32, 32, kernel_size=(2,), stride=(1,), dilation=(2,))\n",
       "    (2): CausalConv1d(32, 32, kernel_size=(2,), stride=(1,), dilation=(4,))\n",
       "    (3): CausalConv1d(32, 32, kernel_size=(2,), stride=(1,), dilation=(8,))\n",
       "    (4): CausalConv1d(32, 32, kernel_size=(2,), stride=(1,), dilation=(16,))\n",
       "    (5): CausalConv1d(32, 32, kernel_size=(2,), stride=(1,), dilation=(32,))\n",
       "    (6): CausalConv1d(32, 32, kernel_size=(2,), stride=(1,), dilation=(64,))\n",
       "    (7): CausalConv1d(32, 32, kernel_size=(2,), stride=(1,), dilation=(128,))\n",
       "  )\n",
       "  (fc1): Linear(in_features=32, out_features=16, bias=True)\n",
       "  (relu1): ReLU()\n",
       "  (drop1): Dropout(p=0.2, inplace=False)\n",
       "  (fc2): Linear(in_features=16, out_features=1, bias=True)\n",
       ")"
      ]
     },
     "execution_count": 130,
     "metadata": {},
     "output_type": "execute_result"
    }
   ],
   "source": [
    "dl = iter(test_dataloader)\n",
    "x,y = next(dl)\n",
    "net.eval()"
   ]
  },
  {
   "cell_type": "code",
   "execution_count": 131,
   "metadata": {},
   "outputs": [
    {
     "data": {
      "text/plain": [
       "torch.Size([64, 1, 490])"
      ]
     },
     "execution_count": 131,
     "metadata": {},
     "output_type": "execute_result"
    }
   ],
   "source": [
    "x.shape"
   ]
  },
  {
   "cell_type": "code",
   "execution_count": 69,
   "metadata": {},
   "outputs": [],
   "source": [
    "x = x.to(device)"
   ]
  },
  {
   "cell_type": "code",
   "execution_count": 70,
   "metadata": {},
   "outputs": [],
   "source": [
    "net = net.to(device)"
   ]
  },
  {
   "cell_type": "code",
   "execution_count": 113,
   "metadata": {
    "collapsed": true,
    "jupyter": {
     "outputs_hidden": true
    }
   },
   "outputs": [
    {
     "data": {
      "text/plain": [
       "DilatedCNN(\n",
       "  (casual_cnn_block): Sequential(\n",
       "    (0): CausalConv1d(1, 32, kernel_size=(2,), stride=(1,))\n",
       "    (1): CausalConv1d(32, 32, kernel_size=(2,), stride=(1,), dilation=(2,))\n",
       "    (2): CausalConv1d(32, 32, kernel_size=(2,), stride=(1,), dilation=(4,))\n",
       "    (3): CausalConv1d(32, 32, kernel_size=(2,), stride=(1,), dilation=(8,))\n",
       "    (4): CausalConv1d(32, 32, kernel_size=(2,), stride=(1,), dilation=(16,))\n",
       "    (5): CausalConv1d(32, 32, kernel_size=(2,), stride=(1,), dilation=(32,))\n",
       "    (6): CausalConv1d(32, 32, kernel_size=(2,), stride=(1,), dilation=(64,))\n",
       "    (7): CausalConv1d(32, 32, kernel_size=(2,), stride=(1,), dilation=(128,))\n",
       "  )\n",
       "  (fc1): Linear(in_features=32, out_features=16, bias=True)\n",
       "  (relu1): ReLU()\n",
       "  (drop1): Dropout(p=0.2, inplace=False)\n",
       "  (fc2): Linear(in_features=16, out_features=1, bias=True)\n",
       ")"
      ]
     },
     "execution_count": 113,
     "metadata": {},
     "output_type": "execute_result"
    }
   ],
   "source": [
    "net.eval()"
   ]
  },
  {
   "cell_type": "code",
   "execution_count": 114,
   "metadata": {},
   "outputs": [],
   "source": [
    "out1 = net(x)\n",
    "out1 = out1.transpose(1,2)\n",
    "out1 = out1[:,:,-1:]"
   ]
  },
  {
   "cell_type": "code",
   "execution_count": 119,
   "metadata": {
    "collapsed": true,
    "jupyter": {
     "outputs_hidden": true
    }
   },
   "outputs": [
    {
     "data": {
      "text/plain": [
       "tensor([[[ 0.0943]],\n",
       "\n",
       "        [[ 0.1467]],\n",
       "\n",
       "        [[-0.1412]],\n",
       "\n",
       "        [[ 0.0715]],\n",
       "\n",
       "        [[ 0.0864]],\n",
       "\n",
       "        [[ 0.0122]],\n",
       "\n",
       "        [[ 0.1036]],\n",
       "\n",
       "        [[ 0.0916]],\n",
       "\n",
       "        [[ 0.0451]],\n",
       "\n",
       "        [[ 0.1099]],\n",
       "\n",
       "        [[ 0.0276]],\n",
       "\n",
       "        [[ 0.1805]],\n",
       "\n",
       "        [[-0.0433]],\n",
       "\n",
       "        [[-0.0148]],\n",
       "\n",
       "        [[-0.1614]],\n",
       "\n",
       "        [[ 0.1728]],\n",
       "\n",
       "        [[-0.1013]],\n",
       "\n",
       "        [[-0.0373]],\n",
       "\n",
       "        [[ 0.0252]],\n",
       "\n",
       "        [[ 0.0039]],\n",
       "\n",
       "        [[ 0.0679]],\n",
       "\n",
       "        [[ 0.0009]],\n",
       "\n",
       "        [[-0.0658]],\n",
       "\n",
       "        [[ 0.0550]],\n",
       "\n",
       "        [[ 0.0935]],\n",
       "\n",
       "        [[-0.0316]],\n",
       "\n",
       "        [[ 0.2146]],\n",
       "\n",
       "        [[-0.1002]],\n",
       "\n",
       "        [[-0.0615]],\n",
       "\n",
       "        [[ 0.0398]],\n",
       "\n",
       "        [[-0.0054]],\n",
       "\n",
       "        [[-0.3795]],\n",
       "\n",
       "        [[ 0.1388]],\n",
       "\n",
       "        [[-0.0035]],\n",
       "\n",
       "        [[ 0.0973]],\n",
       "\n",
       "        [[ 0.0608]],\n",
       "\n",
       "        [[ 0.0151]],\n",
       "\n",
       "        [[-0.0350]],\n",
       "\n",
       "        [[-0.0099]],\n",
       "\n",
       "        [[ 0.1477]],\n",
       "\n",
       "        [[ 0.0628]],\n",
       "\n",
       "        [[ 0.0694]],\n",
       "\n",
       "        [[-0.0651]],\n",
       "\n",
       "        [[ 0.0260]],\n",
       "\n",
       "        [[-0.3315]],\n",
       "\n",
       "        [[ 0.1524]],\n",
       "\n",
       "        [[ 0.0682]],\n",
       "\n",
       "        [[-0.0539]],\n",
       "\n",
       "        [[ 0.0370]],\n",
       "\n",
       "        [[-0.0117]],\n",
       "\n",
       "        [[-0.0154]],\n",
       "\n",
       "        [[ 0.0079]],\n",
       "\n",
       "        [[ 0.0825]],\n",
       "\n",
       "        [[-0.0932]],\n",
       "\n",
       "        [[-0.0622]],\n",
       "\n",
       "        [[-0.0943]],\n",
       "\n",
       "        [[-0.1558]],\n",
       "\n",
       "        [[ 0.0121]],\n",
       "\n",
       "        [[ 0.0238]],\n",
       "\n",
       "        [[ 0.0208]],\n",
       "\n",
       "        [[ 0.0959]],\n",
       "\n",
       "        [[ 0.0372]],\n",
       "\n",
       "        [[-0.0116]],\n",
       "\n",
       "        [[-0.1680]]], device='cuda:0', grad_fn=<SliceBackward>)"
      ]
     },
     "execution_count": 119,
     "metadata": {},
     "output_type": "execute_result"
    }
   ],
   "source": [
    "out1"
   ]
  },
  {
   "cell_type": "code",
   "execution_count": 121,
   "metadata": {},
   "outputs": [],
   "source": [
    "x1 = torch.cat([x,out1], axis=2)"
   ]
  },
  {
   "cell_type": "code",
   "execution_count": 122,
   "metadata": {},
   "outputs": [],
   "source": [
    "out2 = net(x1).transpose(1,2)[:,:,-1:]"
   ]
  },
  {
   "cell_type": "code",
   "execution_count": 126,
   "metadata": {},
   "outputs": [
    {
     "data": {
      "text/plain": [
       "tensor(0.0943, device='cuda:0', grad_fn=<SelectBackward>)"
      ]
     },
     "execution_count": 126,
     "metadata": {},
     "output_type": "execute_result"
    }
   ],
   "source": [
    "out1[0,0,0]"
   ]
  },
  {
   "cell_type": "code",
   "execution_count": 125,
   "metadata": {},
   "outputs": [
    {
     "data": {
      "text/plain": [
       "tensor(0.0727, device='cuda:0', grad_fn=<SelectBackward>)"
      ]
     },
     "execution_count": 125,
     "metadata": {},
     "output_type": "execute_result"
    }
   ],
   "source": [
    "out2[0,0,0]"
   ]
  },
  {
   "cell_type": "code",
   "execution_count": 127,
   "metadata": {
    "collapsed": true,
    "jupyter": {
     "outputs_hidden": true
    }
   },
   "outputs": [
    {
     "data": {
      "text/plain": [
       "tensor([[[-0.3055]],\n",
       "\n",
       "        [[-0.4639]],\n",
       "\n",
       "        [[-0.2166]],\n",
       "\n",
       "        [[-0.4959]],\n",
       "\n",
       "        [[-0.2089]],\n",
       "\n",
       "        [[-0.1339]],\n",
       "\n",
       "        [[-0.4166]],\n",
       "\n",
       "        [[-0.3674]],\n",
       "\n",
       "        [[-0.2777]],\n",
       "\n",
       "        [[-0.3015]],\n",
       "\n",
       "        [[-0.4117]],\n",
       "\n",
       "        [[-0.4126]],\n",
       "\n",
       "        [[-0.3828]],\n",
       "\n",
       "        [[-0.4347]],\n",
       "\n",
       "        [[-0.4994]],\n",
       "\n",
       "        [[-0.1084]],\n",
       "\n",
       "        [[-0.3905]],\n",
       "\n",
       "        [[-0.3507]],\n",
       "\n",
       "        [[-0.4019]],\n",
       "\n",
       "        [[-0.4384]],\n",
       "\n",
       "        [[-0.4122]],\n",
       "\n",
       "        [[-0.2676]],\n",
       "\n",
       "        [[-0.2427]],\n",
       "\n",
       "        [[-0.2089]],\n",
       "\n",
       "        [[-0.3549]],\n",
       "\n",
       "        [[-0.5073]],\n",
       "\n",
       "        [[-0.4907]],\n",
       "\n",
       "        [[-0.4440]],\n",
       "\n",
       "        [[-0.5113]],\n",
       "\n",
       "        [[-0.2668]],\n",
       "\n",
       "        [[-0.4993]],\n",
       "\n",
       "        [[-0.6791]],\n",
       "\n",
       "        [[-0.2399]],\n",
       "\n",
       "        [[-0.2750]],\n",
       "\n",
       "        [[-0.3871]],\n",
       "\n",
       "        [[-0.4873]],\n",
       "\n",
       "        [[-0.3950]],\n",
       "\n",
       "        [[-0.3263]],\n",
       "\n",
       "        [[-0.4301]],\n",
       "\n",
       "        [[-0.1258]],\n",
       "\n",
       "        [[-0.2752]],\n",
       "\n",
       "        [[-0.3128]],\n",
       "\n",
       "        [[-0.3400]],\n",
       "\n",
       "        [[-0.2965]],\n",
       "\n",
       "        [[-0.3988]],\n",
       "\n",
       "        [[-0.2833]],\n",
       "\n",
       "        [[-0.1575]],\n",
       "\n",
       "        [[-0.2015]],\n",
       "\n",
       "        [[-0.3538]],\n",
       "\n",
       "        [[-0.2984]],\n",
       "\n",
       "        [[-0.3993]],\n",
       "\n",
       "        [[-0.3980]],\n",
       "\n",
       "        [[-0.3329]],\n",
       "\n",
       "        [[-0.3893]],\n",
       "\n",
       "        [[-0.2991]],\n",
       "\n",
       "        [[-0.5211]],\n",
       "\n",
       "        [[-0.4478]],\n",
       "\n",
       "        [[-0.2269]],\n",
       "\n",
       "        [[-0.2901]],\n",
       "\n",
       "        [[-0.3644]],\n",
       "\n",
       "        [[-0.3602]],\n",
       "\n",
       "        [[-0.3908]],\n",
       "\n",
       "        [[-0.2346]],\n",
       "\n",
       "        [[-0.6697]]], device='cuda:0', grad_fn=<SliceBackward>)"
      ]
     },
     "execution_count": 127,
     "metadata": {},
     "output_type": "execute_result"
    }
   ],
   "source": [
    "x11 = x1[:,:,-200:]\n",
    "out3 = net(x11).transpose(1,2)[:,:,-1:]\n",
    "out3\n"
   ]
  },
  {
   "cell_type": "code",
   "execution_count": 128,
   "metadata": {},
   "outputs": [
    {
     "data": {
      "text/plain": [
       "tensor(-0.3055, device='cuda:0', grad_fn=<SelectBackward>)"
      ]
     },
     "execution_count": 128,
     "metadata": {},
     "output_type": "execute_result"
    }
   ],
   "source": [
    "out3[0,0,0]"
   ]
  },
  {
   "cell_type": "code",
   "execution_count": 132,
   "metadata": {
    "Collapsed": "false"
   },
   "outputs": [],
   "source": [
    "def predict_sequence(net, x, predict_len=30,device=device):\n",
    "    '''\n",
    "    Input Args:\n",
    "        \n",
    "        net = trained model\n",
    "        input_sequence = input_sequence for which we need to forest\n",
    "        predict_len = forecast these many values after the end\n",
    "                      of input_sequence\n",
    "                      \n",
    "    '''\n",
    "    batch_size, features, timesteps = x.size()\n",
    "    predictions = []\n",
    "    net.eval()\n",
    "    for i in range(predict_len):\n",
    "        \n",
    "        x = x[:,:,-490:]\n",
    "        predict = net(x) #  predict for 1 time step at a time\n",
    "        predict = predict[:,-1:,:]  # last time step\n",
    "        predictions.append(predict)\n",
    "    \n",
    "        x = torch.cat([x,predict], axis=2)\n",
    "#         print(x.shape)\n",
    "    \n",
    "    predictions = [i.squeeze(2) for i in predictions]\n",
    "    predictions = torch.cat(predictions, axis=1)\n",
    "    return predictions"
   ]
  },
  {
   "cell_type": "code",
   "execution_count": 136,
   "metadata": {
    "Collapsed": "false"
   },
   "outputs": [],
   "source": [
    "net.eval()\n",
    "for batch in test_dataloader:\n",
    "    x,y = batch\n",
    "    x = x.to(device)\n",
    "    y = y.to(device)\n",
    "    y_pred = predict_sequence(net, x, device=device)\n",
    "    break"
   ]
  },
  {
   "cell_type": "code",
   "execution_count": 147,
   "metadata": {},
   "outputs": [
    {
     "data": {
      "text/plain": [
       "(torch.Size([64, 1, 30]), torch.Size([64, 30]))"
      ]
     },
     "execution_count": 147,
     "metadata": {},
     "output_type": "execute_result"
    }
   ],
   "source": [
    "y.shape, y_pred.shape"
   ]
  },
  {
   "cell_type": "code",
   "execution_count": 150,
   "metadata": {},
   "outputs": [],
   "source": [
    "y_pred = y_pred.unsqueeze(1)"
   ]
  },
  {
   "cell_type": "code",
   "execution_count": 153,
   "metadata": {},
   "outputs": [
    {
     "data": {
      "text/plain": [
       "tensor(0.4252, device='cuda:0', grad_fn=<L1LossBackward>)"
      ]
     },
     "execution_count": 153,
     "metadata": {},
     "output_type": "execute_result"
    }
   ],
   "source": [
    "criterion(y_pred, y)"
   ]
  },
  {
   "cell_type": "code",
   "execution_count": 157,
   "metadata": {
    "Collapsed": "false"
   },
   "outputs": [
    {
     "data": {
      "image/png": "[encoded data removed]",
      "text/plain": [
       "<Figure size 432x288 with 1 Axes>"
      ]
     },
     "metadata": {
      "needs_background": "light"
     },
     "output_type": "display_data"
    }
   ],
   "source": [
    "plot_predictions(y_pred, y, 50)"
   ]
  },
  {
   "cell_type": "code",
   "execution_count": 17,
   "metadata": {
    "Collapsed": "false"
   },
   "outputs": [],
   "source": [
    "def _to_numpy(t): return t.detach().cpu().numpy()\n",
    "def plot_predictions(y_pred, y,idx):\n",
    "    \n",
    "    preds = y_pred[idx,:,:]\n",
    "    target = y[idx,:,:]\n",
    "    \n",
    "    preds = _to_numpy(preds).ravel()\n",
    "    target = _to_numpy(target).ravel()\n",
    "    \n",
    "    xaxis = range(len(preds))\n",
    "\n",
    "    sns.lineplot(x=xaxis, y=preds,label='predictions')\n",
    "    sns.lineplot(x=xaxis, y=target,label='target')\n",
    "    "
   ]
  },
  {
   "cell_type": "code",
   "execution_count": 93,
   "metadata": {
    "Collapsed": "false"
   },
   "outputs": [
    {
     "data": {
      "image/png": "[encoded data removed]",
      "text/plain": [
       "<Figure size 432x288 with 1 Axes>"
      ]
     },
     "metadata": {
      "needs_background": "light"
     },
     "output_type": "display_data"
    }
   ],
   "source": [
    "plot_predictions(y_pred, y, 50)"
   ]
  },
  {
   "cell_type": "code",
   "execution_count": null,
   "metadata": {
    "Collapsed": "false"
   },
   "outputs": [],
   "source": []
  }
 ],
 "metadata": {
  "kernelspec": {
   "display_name": "Python 3",
   "language": "python",
   "name": "python3"
  },
  "language_info": {
   "codemirror_mode": {
    "name": "ipython",
    "version": 3
   },
   "file_extension": ".py",
   "mimetype": "text/x-python",
   "name": "python",
   "nbconvert_exporter": "python",
   "pygments_lexer": "ipython3",
   "version": "3.7.4"
  }
 },
 "nbformat": 4,
 "nbformat_minor": 4
}
